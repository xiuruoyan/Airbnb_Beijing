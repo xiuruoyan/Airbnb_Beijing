{
 "cells": [
  {
   "cell_type": "code",
   "execution_count": 457,
   "metadata": {
    "collapsed": true
   },
   "outputs": [],
   "source": [
    "import pandas as pd\n",
    "import numpy as np\n",
    "import os\n",
    "import matplotlib.pyplot as plt\n",
    "import re\n",
    "import nltk\n",
    "from nltk.tokenize import word_tokenize\n",
    "from re import sub\n",
    "import matplotlib.pyplot as plt\n",
    "from sklearn.linear_model import LinearRegression\n",
    "from sklearn.model_selection import train_test_split\n",
    "from sklearn.metrics import r2_score, mean_squared_error\n",
    "from PIL import Image\n",
    "from wordcloud import WordCloud, STOPWORDS, ImageColorGenerator\n",
    "\n",
    "# nltk.download()"
   ]
  },
  {
   "cell_type": "code",
   "execution_count": 2,
   "metadata": {
    "collapsed": true
   },
   "outputs": [],
   "source": [
    "cwd = os.getcwd()\n",
    "source_path = cwd + '/source//'"
   ]
  },
  {
   "cell_type": "code",
   "execution_count": 3,
   "metadata": {},
   "outputs": [
    {
     "name": "stderr",
     "output_type": "stream",
     "text": [
      "/Users/sharonyan/anaconda/lib/python3.6/site-packages/IPython/core/interactiveshell.py:2717: DtypeWarning: Columns (43,61,62,95) have mixed types. Specify dtype option on import or set low_memory=False.\n",
      "  interactivity=interactivity, compiler=compiler, result=result)\n"
     ]
    }
   ],
   "source": [
    "# load data\n",
    "calendar = pd.read_csv(source_path + '/calendar.csv')\n",
    "df_list = pd.read_csv(source_path + '/listings.csv')\n",
    "listings_detail = pd.read_csv(source_path + '/listings_detail.csv')\n",
    "#neighbourhoods = pd.read_csv(cwd + '/neighbourhoods.csv')\n",
    "reviews = pd.read_csv(source_path + '/reviews_detail.csv')"
   ]
  },
  {
   "cell_type": "code",
   "execution_count": 380,
   "metadata": {
    "collapsed": true
   },
   "outputs": [],
   "source": [
    "# calendar.head()"
   ]
  },
  {
   "cell_type": "code",
   "execution_count": 381,
   "metadata": {},
   "outputs": [
    {
     "data": {
      "text/plain": [
       "array(['朝阳区 / Chaoyang', '密云县 / Miyun', '东城区', '西城区', '海淀区',\n",
       "       '顺义区 / Shunyi', '怀柔区 / Huairou', '昌平区', '通州区 / Tongzhou',\n",
       "       '丰台区 / Fengtai', '房山区', '延庆县 / Yanqing', '大兴区 / Daxing', '石景山区',\n",
       "       '平谷区 / Pinggu', '门头沟区 / Mentougou'], dtype=object)"
      ]
     },
     "execution_count": 381,
     "metadata": {},
     "output_type": "execute_result"
    }
   ],
   "source": [
    "df_list['neighbourhood'].unique()"
   ]
  },
  {
   "cell_type": "code",
   "execution_count": 382,
   "metadata": {},
   "outputs": [
    {
     "data": {
      "text/html": [
       "<div>\n",
       "<style>\n",
       "    .dataframe thead tr:only-child th {\n",
       "        text-align: right;\n",
       "    }\n",
       "\n",
       "    .dataframe thead th {\n",
       "        text-align: left;\n",
       "    }\n",
       "\n",
       "    .dataframe tbody tr th {\n",
       "        vertical-align: top;\n",
       "    }\n",
       "</style>\n",
       "<table border=\"1\" class=\"dataframe\">\n",
       "  <thead>\n",
       "    <tr style=\"text-align: right;\">\n",
       "      <th></th>\n",
       "      <th>id</th>\n",
       "      <th>name</th>\n",
       "      <th>host_id</th>\n",
       "      <th>host_name</th>\n",
       "      <th>neighbourhood_group</th>\n",
       "      <th>neighbourhood</th>\n",
       "      <th>latitude</th>\n",
       "      <th>longitude</th>\n",
       "      <th>room_type</th>\n",
       "      <th>price</th>\n",
       "      <th>minimum_nights</th>\n",
       "      <th>number_of_reviews</th>\n",
       "      <th>last_review</th>\n",
       "      <th>reviews_per_month</th>\n",
       "      <th>calculated_host_listings_count</th>\n",
       "      <th>availability_365</th>\n",
       "    </tr>\n",
       "  </thead>\n",
       "  <tbody>\n",
       "    <tr>\n",
       "      <th>0</th>\n",
       "      <td>44054</td>\n",
       "      <td>Modern and Comfortable Living in CBD</td>\n",
       "      <td>192875</td>\n",
       "      <td>East Apartments</td>\n",
       "      <td>NaN</td>\n",
       "      <td>朝阳区 / Chaoyang</td>\n",
       "      <td>39.89503</td>\n",
       "      <td>116.45163</td>\n",
       "      <td>Entire home/apt</td>\n",
       "      <td>812</td>\n",
       "      <td>1</td>\n",
       "      <td>92</td>\n",
       "      <td>2019-06-09</td>\n",
       "      <td>0.85</td>\n",
       "      <td>6</td>\n",
       "      <td>347</td>\n",
       "    </tr>\n",
       "    <tr>\n",
       "      <th>1</th>\n",
       "      <td>100213</td>\n",
       "      <td>The Great Wall Box Deluxe Suite A团园长城小院东院套房</td>\n",
       "      <td>527062</td>\n",
       "      <td>Joe</td>\n",
       "      <td>NaN</td>\n",
       "      <td>密云县 / Miyun</td>\n",
       "      <td>40.68434</td>\n",
       "      <td>117.17231</td>\n",
       "      <td>Private room</td>\n",
       "      <td>1197</td>\n",
       "      <td>1</td>\n",
       "      <td>2</td>\n",
       "      <td>2017-10-08</td>\n",
       "      <td>0.09</td>\n",
       "      <td>4</td>\n",
       "      <td>0</td>\n",
       "    </tr>\n",
       "    <tr>\n",
       "      <th>2</th>\n",
       "      <td>114384</td>\n",
       "      <td>Newly Remodeled Apt GUOMAO CBD</td>\n",
       "      <td>533062</td>\n",
       "      <td>Helen</td>\n",
       "      <td>NaN</td>\n",
       "      <td>朝阳区 / Chaoyang</td>\n",
       "      <td>39.90491</td>\n",
       "      <td>116.46367</td>\n",
       "      <td>Entire home/apt</td>\n",
       "      <td>667</td>\n",
       "      <td>1</td>\n",
       "      <td>60</td>\n",
       "      <td>2018-02-14</td>\n",
       "      <td>1.08</td>\n",
       "      <td>4</td>\n",
       "      <td>0</td>\n",
       "    </tr>\n",
       "    <tr>\n",
       "      <th>3</th>\n",
       "      <td>114465</td>\n",
       "      <td>GUOMAO, CBD Comfy Convenient Apt</td>\n",
       "      <td>533062</td>\n",
       "      <td>Helen</td>\n",
       "      <td>NaN</td>\n",
       "      <td>朝阳区 / Chaoyang</td>\n",
       "      <td>39.90441</td>\n",
       "      <td>116.46524</td>\n",
       "      <td>Entire home/apt</td>\n",
       "      <td>619</td>\n",
       "      <td>1</td>\n",
       "      <td>9</td>\n",
       "      <td>2017-09-21</td>\n",
       "      <td>0.11</td>\n",
       "      <td>4</td>\n",
       "      <td>365</td>\n",
       "    </tr>\n",
       "    <tr>\n",
       "      <th>4</th>\n",
       "      <td>114475</td>\n",
       "      <td>Cozy Apt Central GUOMAO</td>\n",
       "      <td>533062</td>\n",
       "      <td>Helen</td>\n",
       "      <td>NaN</td>\n",
       "      <td>朝阳区 / Chaoyang</td>\n",
       "      <td>39.90555</td>\n",
       "      <td>116.46695</td>\n",
       "      <td>Entire home/apt</td>\n",
       "      <td>619</td>\n",
       "      <td>1</td>\n",
       "      <td>2</td>\n",
       "      <td>2015-09-26</td>\n",
       "      <td>0.04</td>\n",
       "      <td>4</td>\n",
       "      <td>365</td>\n",
       "    </tr>\n",
       "  </tbody>\n",
       "</table>\n",
       "</div>"
      ],
      "text/plain": [
       "       id                                         name  host_id  \\\n",
       "0   44054         Modern and Comfortable Living in CBD   192875   \n",
       "1  100213  The Great Wall Box Deluxe Suite A团园长城小院东院套房   527062   \n",
       "2  114384               Newly Remodeled Apt GUOMAO CBD   533062   \n",
       "3  114465             GUOMAO, CBD Comfy Convenient Apt   533062   \n",
       "4  114475                      Cozy Apt Central GUOMAO   533062   \n",
       "\n",
       "         host_name  neighbourhood_group   neighbourhood  latitude  longitude  \\\n",
       "0  East Apartments                  NaN  朝阳区 / Chaoyang  39.89503  116.45163   \n",
       "1              Joe                  NaN     密云县 / Miyun  40.68434  117.17231   \n",
       "2            Helen                  NaN  朝阳区 / Chaoyang  39.90491  116.46367   \n",
       "3            Helen                  NaN  朝阳区 / Chaoyang  39.90441  116.46524   \n",
       "4            Helen                  NaN  朝阳区 / Chaoyang  39.90555  116.46695   \n",
       "\n",
       "         room_type  price  minimum_nights  number_of_reviews last_review  \\\n",
       "0  Entire home/apt    812               1                 92  2019-06-09   \n",
       "1     Private room   1197               1                  2  2017-10-08   \n",
       "2  Entire home/apt    667               1                 60  2018-02-14   \n",
       "3  Entire home/apt    619               1                  9  2017-09-21   \n",
       "4  Entire home/apt    619               1                  2  2015-09-26   \n",
       "\n",
       "   reviews_per_month  calculated_host_listings_count  availability_365  \n",
       "0               0.85                               6               347  \n",
       "1               0.09                               4                 0  \n",
       "2               1.08                               4                 0  \n",
       "3               0.11                               4               365  \n",
       "4               0.04                               4               365  "
      ]
     },
     "execution_count": 382,
     "metadata": {},
     "output_type": "execute_result"
    }
   ],
   "source": [
    "df_list.head()"
   ]
  },
  {
   "cell_type": "code",
   "execution_count": 383,
   "metadata": {},
   "outputs": [
    {
     "data": {
      "text/html": [
       "<div>\n",
       "<style>\n",
       "    .dataframe thead tr:only-child th {\n",
       "        text-align: right;\n",
       "    }\n",
       "\n",
       "    .dataframe thead th {\n",
       "        text-align: left;\n",
       "    }\n",
       "\n",
       "    .dataframe tbody tr th {\n",
       "        vertical-align: top;\n",
       "    }\n",
       "</style>\n",
       "<table border=\"1\" class=\"dataframe\">\n",
       "  <thead>\n",
       "    <tr style=\"text-align: right;\">\n",
       "      <th></th>\n",
       "      <th>id</th>\n",
       "      <th>listing_url</th>\n",
       "      <th>scrape_id</th>\n",
       "      <th>last_scraped</th>\n",
       "      <th>name</th>\n",
       "      <th>summary</th>\n",
       "      <th>space</th>\n",
       "      <th>description</th>\n",
       "      <th>experiences_offered</th>\n",
       "      <th>neighborhood_overview</th>\n",
       "      <th>...</th>\n",
       "      <th>instant_bookable</th>\n",
       "      <th>is_business_travel_ready</th>\n",
       "      <th>cancellation_policy</th>\n",
       "      <th>require_guest_profile_picture</th>\n",
       "      <th>require_guest_phone_verification</th>\n",
       "      <th>calculated_host_listings_count</th>\n",
       "      <th>calculated_host_listings_count_entire_homes</th>\n",
       "      <th>calculated_host_listings_count_private_rooms</th>\n",
       "      <th>calculated_host_listings_count_shared_rooms</th>\n",
       "      <th>reviews_per_month</th>\n",
       "    </tr>\n",
       "  </thead>\n",
       "  <tbody>\n",
       "    <tr>\n",
       "      <th>0</th>\n",
       "      <td>44054</td>\n",
       "      <td>https://www.airbnb.com/rooms/44054</td>\n",
       "      <td>20190715155043</td>\n",
       "      <td>2019-07-15</td>\n",
       "      <td>Modern and Comfortable Living in CBD</td>\n",
       "      <td>East Apartments offers comfortable living away...</td>\n",
       "      <td>East Apartments is a western managed serviced ...</td>\n",
       "      <td>East Apartments offers comfortable living away...</td>\n",
       "      <td>none</td>\n",
       "      <td>The neighborhood is a private compound.  Just ...</td>\n",
       "      <td>...</td>\n",
       "      <td>t</td>\n",
       "      <td>f</td>\n",
       "      <td>strict_14_with_grace_period</td>\n",
       "      <td>f</td>\n",
       "      <td>f</td>\n",
       "      <td>6</td>\n",
       "      <td>6</td>\n",
       "      <td>0</td>\n",
       "      <td>0</td>\n",
       "      <td>0.85</td>\n",
       "    </tr>\n",
       "    <tr>\n",
       "      <th>1</th>\n",
       "      <td>100213</td>\n",
       "      <td>https://www.airbnb.com/rooms/100213</td>\n",
       "      <td>20190715155043</td>\n",
       "      <td>2019-07-15</td>\n",
       "      <td>The Great Wall Box Deluxe Suite A团园长城小院东院套房</td>\n",
       "      <td>This is your guide to live by the Great Wall! ...</td>\n",
       "      <td>This is your guide to live by the Great Wall! ...</td>\n",
       "      <td>This is your guide to live by the Great Wall! ...</td>\n",
       "      <td>none</td>\n",
       "      <td>5 mins walk to Panglongshan Great Wall, 25 min...</td>\n",
       "      <td>...</td>\n",
       "      <td>t</td>\n",
       "      <td>f</td>\n",
       "      <td>strict_14_with_grace_period</td>\n",
       "      <td>f</td>\n",
       "      <td>f</td>\n",
       "      <td>4</td>\n",
       "      <td>0</td>\n",
       "      <td>3</td>\n",
       "      <td>1</td>\n",
       "      <td>0.09</td>\n",
       "    </tr>\n",
       "    <tr>\n",
       "      <th>2</th>\n",
       "      <td>114384</td>\n",
       "      <td>https://www.airbnb.com/rooms/114384</td>\n",
       "      <td>20190715155043</td>\n",
       "      <td>2019-07-16</td>\n",
       "      <td>Newly Remodeled Apt GUOMAO CBD</td>\n",
       "      <td>华纳北京恋日公寓位于北京的中心商务区,是十分受到旅客欢迎的订房选择｡ 5.0 km之外便是市...</td>\n",
       "      <td>Our Suite Apartments, located only 40 km from ...</td>\n",
       "      <td>华纳北京恋日公寓位于北京的中心商务区,是十分受到旅客欢迎的订房选择｡ 5.0 km之外便是市...</td>\n",
       "      <td>none</td>\n",
       "      <td>Numerous eateries and coffee store within 3 mi...</td>\n",
       "      <td>...</td>\n",
       "      <td>t</td>\n",
       "      <td>f</td>\n",
       "      <td>moderate</td>\n",
       "      <td>f</td>\n",
       "      <td>f</td>\n",
       "      <td>4</td>\n",
       "      <td>4</td>\n",
       "      <td>0</td>\n",
       "      <td>0</td>\n",
       "      <td>1.08</td>\n",
       "    </tr>\n",
       "    <tr>\n",
       "      <th>3</th>\n",
       "      <td>114465</td>\n",
       "      <td>https://www.airbnb.com/rooms/114465</td>\n",
       "      <td>20190715155043</td>\n",
       "      <td>2019-07-15</td>\n",
       "      <td>GUOMAO, CBD Comfy Convenient Apt</td>\n",
       "      <td>华纳北京恋日公寓位于北京的中心商务区,是十分受到旅客欢迎的订房选择｡ 5.0 km之外便是市...</td>\n",
       "      <td>Warner Beijing Sun Thirsty Apartment, located ...</td>\n",
       "      <td>华纳北京恋日公寓位于北京的中心商务区,是十分受到旅客欢迎的订房选择｡ 5.0 km之外便是市...</td>\n",
       "      <td>none</td>\n",
       "      <td>The neighborhood is quite safe.</td>\n",
       "      <td>...</td>\n",
       "      <td>t</td>\n",
       "      <td>f</td>\n",
       "      <td>moderate</td>\n",
       "      <td>f</td>\n",
       "      <td>f</td>\n",
       "      <td>4</td>\n",
       "      <td>4</td>\n",
       "      <td>0</td>\n",
       "      <td>0</td>\n",
       "      <td>0.11</td>\n",
       "    </tr>\n",
       "    <tr>\n",
       "      <th>4</th>\n",
       "      <td>114475</td>\n",
       "      <td>https://www.airbnb.com/rooms/114475</td>\n",
       "      <td>20190715155043</td>\n",
       "      <td>2019-07-15</td>\n",
       "      <td>Cozy Apt Central GUOMAO</td>\n",
       "      <td>华纳北京恋日公寓位于北京的中心商务区,是十分受到旅客欢迎的订房选择｡ 5.0 km之外便是市...</td>\n",
       "      <td>Warner Beijing Sun Thirsty Apartment, located ...</td>\n",
       "      <td>华纳北京恋日公寓位于北京的中心商务区,是十分受到旅客欢迎的订房选择｡ 5.0 km之外便是市...</td>\n",
       "      <td>none</td>\n",
       "      <td>The neighborhood is very safe and convenient.</td>\n",
       "      <td>...</td>\n",
       "      <td>t</td>\n",
       "      <td>f</td>\n",
       "      <td>moderate</td>\n",
       "      <td>f</td>\n",
       "      <td>f</td>\n",
       "      <td>4</td>\n",
       "      <td>4</td>\n",
       "      <td>0</td>\n",
       "      <td>0</td>\n",
       "      <td>0.04</td>\n",
       "    </tr>\n",
       "  </tbody>\n",
       "</table>\n",
       "<p>5 rows × 106 columns</p>\n",
       "</div>"
      ],
      "text/plain": [
       "       id                          listing_url       scrape_id last_scraped  \\\n",
       "0   44054   https://www.airbnb.com/rooms/44054  20190715155043   2019-07-15   \n",
       "1  100213  https://www.airbnb.com/rooms/100213  20190715155043   2019-07-15   \n",
       "2  114384  https://www.airbnb.com/rooms/114384  20190715155043   2019-07-16   \n",
       "3  114465  https://www.airbnb.com/rooms/114465  20190715155043   2019-07-15   \n",
       "4  114475  https://www.airbnb.com/rooms/114475  20190715155043   2019-07-15   \n",
       "\n",
       "                                          name  \\\n",
       "0         Modern and Comfortable Living in CBD   \n",
       "1  The Great Wall Box Deluxe Suite A团园长城小院东院套房   \n",
       "2               Newly Remodeled Apt GUOMAO CBD   \n",
       "3             GUOMAO, CBD Comfy Convenient Apt   \n",
       "4                      Cozy Apt Central GUOMAO   \n",
       "\n",
       "                                             summary  \\\n",
       "0  East Apartments offers comfortable living away...   \n",
       "1  This is your guide to live by the Great Wall! ...   \n",
       "2  华纳北京恋日公寓位于北京的中心商务区,是十分受到旅客欢迎的订房选择｡ 5.0 km之外便是市...   \n",
       "3  华纳北京恋日公寓位于北京的中心商务区,是十分受到旅客欢迎的订房选择｡ 5.0 km之外便是市...   \n",
       "4  华纳北京恋日公寓位于北京的中心商务区,是十分受到旅客欢迎的订房选择｡ 5.0 km之外便是市...   \n",
       "\n",
       "                                               space  \\\n",
       "0  East Apartments is a western managed serviced ...   \n",
       "1  This is your guide to live by the Great Wall! ...   \n",
       "2  Our Suite Apartments, located only 40 km from ...   \n",
       "3  Warner Beijing Sun Thirsty Apartment, located ...   \n",
       "4  Warner Beijing Sun Thirsty Apartment, located ...   \n",
       "\n",
       "                                         description experiences_offered  \\\n",
       "0  East Apartments offers comfortable living away...                none   \n",
       "1  This is your guide to live by the Great Wall! ...                none   \n",
       "2  华纳北京恋日公寓位于北京的中心商务区,是十分受到旅客欢迎的订房选择｡ 5.0 km之外便是市...                none   \n",
       "3  华纳北京恋日公寓位于北京的中心商务区,是十分受到旅客欢迎的订房选择｡ 5.0 km之外便是市...                none   \n",
       "4  华纳北京恋日公寓位于北京的中心商务区,是十分受到旅客欢迎的订房选择｡ 5.0 km之外便是市...                none   \n",
       "\n",
       "                               neighborhood_overview        ...          \\\n",
       "0  The neighborhood is a private compound.  Just ...        ...           \n",
       "1  5 mins walk to Panglongshan Great Wall, 25 min...        ...           \n",
       "2  Numerous eateries and coffee store within 3 mi...        ...           \n",
       "3                    The neighborhood is quite safe.        ...           \n",
       "4      The neighborhood is very safe and convenient.        ...           \n",
       "\n",
       "  instant_bookable is_business_travel_ready          cancellation_policy  \\\n",
       "0                t                        f  strict_14_with_grace_period   \n",
       "1                t                        f  strict_14_with_grace_period   \n",
       "2                t                        f                     moderate   \n",
       "3                t                        f                     moderate   \n",
       "4                t                        f                     moderate   \n",
       "\n",
       "  require_guest_profile_picture require_guest_phone_verification  \\\n",
       "0                             f                                f   \n",
       "1                             f                                f   \n",
       "2                             f                                f   \n",
       "3                             f                                f   \n",
       "4                             f                                f   \n",
       "\n",
       "   calculated_host_listings_count  \\\n",
       "0                               6   \n",
       "1                               4   \n",
       "2                               4   \n",
       "3                               4   \n",
       "4                               4   \n",
       "\n",
       "   calculated_host_listings_count_entire_homes  \\\n",
       "0                                            6   \n",
       "1                                            0   \n",
       "2                                            4   \n",
       "3                                            4   \n",
       "4                                            4   \n",
       "\n",
       "  calculated_host_listings_count_private_rooms  \\\n",
       "0                                            0   \n",
       "1                                            3   \n",
       "2                                            0   \n",
       "3                                            0   \n",
       "4                                            0   \n",
       "\n",
       "   calculated_host_listings_count_shared_rooms  reviews_per_month  \n",
       "0                                            0               0.85  \n",
       "1                                            1               0.09  \n",
       "2                                            0               1.08  \n",
       "3                                            0               0.11  \n",
       "4                                            0               0.04  \n",
       "\n",
       "[5 rows x 106 columns]"
      ]
     },
     "execution_count": 383,
     "metadata": {},
     "output_type": "execute_result"
    }
   ],
   "source": [
    "listings_detail.head()"
   ]
  },
  {
   "cell_type": "code",
   "execution_count": 384,
   "metadata": {},
   "outputs": [
    {
     "data": {
      "text/plain": [
       "['id',\n",
       " 'listing_url',\n",
       " 'scrape_id',\n",
       " 'last_scraped',\n",
       " 'name',\n",
       " 'summary',\n",
       " 'space',\n",
       " 'description',\n",
       " 'experiences_offered',\n",
       " 'neighborhood_overview',\n",
       " 'notes',\n",
       " 'transit',\n",
       " 'access',\n",
       " 'interaction',\n",
       " 'house_rules',\n",
       " 'thumbnail_url',\n",
       " 'medium_url',\n",
       " 'picture_url',\n",
       " 'xl_picture_url',\n",
       " 'host_id',\n",
       " 'host_url',\n",
       " 'host_name',\n",
       " 'host_since',\n",
       " 'host_location',\n",
       " 'host_about',\n",
       " 'host_response_time',\n",
       " 'host_response_rate',\n",
       " 'host_acceptance_rate',\n",
       " 'host_is_superhost',\n",
       " 'host_thumbnail_url',\n",
       " 'host_picture_url',\n",
       " 'host_neighbourhood',\n",
       " 'host_listings_count',\n",
       " 'host_total_listings_count',\n",
       " 'host_verifications',\n",
       " 'host_has_profile_pic',\n",
       " 'host_identity_verified',\n",
       " 'street',\n",
       " 'neighbourhood',\n",
       " 'neighbourhood_cleansed',\n",
       " 'neighbourhood_group_cleansed',\n",
       " 'city',\n",
       " 'state',\n",
       " 'zipcode',\n",
       " 'market',\n",
       " 'smart_location',\n",
       " 'country_code',\n",
       " 'country',\n",
       " 'latitude',\n",
       " 'longitude',\n",
       " 'is_location_exact',\n",
       " 'property_type',\n",
       " 'room_type',\n",
       " 'accommodates',\n",
       " 'bathrooms',\n",
       " 'bedrooms',\n",
       " 'beds',\n",
       " 'bed_type',\n",
       " 'amenities',\n",
       " 'square_feet',\n",
       " 'price',\n",
       " 'weekly_price',\n",
       " 'monthly_price',\n",
       " 'security_deposit',\n",
       " 'cleaning_fee',\n",
       " 'guests_included',\n",
       " 'extra_people',\n",
       " 'minimum_nights',\n",
       " 'maximum_nights',\n",
       " 'minimum_minimum_nights',\n",
       " 'maximum_minimum_nights',\n",
       " 'minimum_maximum_nights',\n",
       " 'maximum_maximum_nights',\n",
       " 'minimum_nights_avg_ntm',\n",
       " 'maximum_nights_avg_ntm',\n",
       " 'calendar_updated',\n",
       " 'has_availability',\n",
       " 'availability_30',\n",
       " 'availability_60',\n",
       " 'availability_90',\n",
       " 'availability_365',\n",
       " 'calendar_last_scraped',\n",
       " 'number_of_reviews',\n",
       " 'number_of_reviews_ltm',\n",
       " 'first_review',\n",
       " 'last_review',\n",
       " 'review_scores_rating',\n",
       " 'review_scores_accuracy',\n",
       " 'review_scores_cleanliness',\n",
       " 'review_scores_checkin',\n",
       " 'review_scores_communication',\n",
       " 'review_scores_location',\n",
       " 'review_scores_value',\n",
       " 'requires_license',\n",
       " 'license',\n",
       " 'jurisdiction_names',\n",
       " 'instant_bookable',\n",
       " 'is_business_travel_ready',\n",
       " 'cancellation_policy',\n",
       " 'require_guest_profile_picture',\n",
       " 'require_guest_phone_verification',\n",
       " 'calculated_host_listings_count',\n",
       " 'calculated_host_listings_count_entire_homes',\n",
       " 'calculated_host_listings_count_private_rooms',\n",
       " 'calculated_host_listings_count_shared_rooms',\n",
       " 'reviews_per_month']"
      ]
     },
     "execution_count": 384,
     "metadata": {},
     "output_type": "execute_result"
    }
   ],
   "source": [
    "list(listings_detail)"
   ]
  },
  {
   "cell_type": "code",
   "execution_count": 385,
   "metadata": {
    "collapsed": true
   },
   "outputs": [],
   "source": [
    "# neighbourhoods"
   ]
  },
  {
   "cell_type": "code",
   "execution_count": 386,
   "metadata": {},
   "outputs": [
    {
     "data": {
      "text/html": [
       "<div>\n",
       "<style>\n",
       "    .dataframe thead tr:only-child th {\n",
       "        text-align: right;\n",
       "    }\n",
       "\n",
       "    .dataframe thead th {\n",
       "        text-align: left;\n",
       "    }\n",
       "\n",
       "    .dataframe tbody tr th {\n",
       "        vertical-align: top;\n",
       "    }\n",
       "</style>\n",
       "<table border=\"1\" class=\"dataframe\">\n",
       "  <thead>\n",
       "    <tr style=\"text-align: right;\">\n",
       "      <th></th>\n",
       "      <th>listing_id</th>\n",
       "      <th>id</th>\n",
       "      <th>date</th>\n",
       "      <th>reviewer_id</th>\n",
       "      <th>reviewer_name</th>\n",
       "      <th>comments</th>\n",
       "      <th>cleaned_comments</th>\n",
       "      <th>is_Chinese</th>\n",
       "    </tr>\n",
       "  </thead>\n",
       "  <tbody>\n",
       "    <tr>\n",
       "      <th>0</th>\n",
       "      <td>44054</td>\n",
       "      <td>84748</td>\n",
       "      <td>2010-08-25</td>\n",
       "      <td>207019</td>\n",
       "      <td>Jarrod</td>\n",
       "      <td>Sev was very helpful.  Sev showed us where to ...</td>\n",
       "      <td>Sev was very helpful  Sev showed us where to s...</td>\n",
       "      <td>None</td>\n",
       "    </tr>\n",
       "    <tr>\n",
       "      <th>1</th>\n",
       "      <td>44054</td>\n",
       "      <td>118384</td>\n",
       "      <td>2010-10-13</td>\n",
       "      <td>218723</td>\n",
       "      <td>Kimberly</td>\n",
       "      <td>We arrived in Beijing very early in the mornin...</td>\n",
       "      <td>We arrived in Beijing very early in the mornin...</td>\n",
       "      <td>None</td>\n",
       "    </tr>\n",
       "    <tr>\n",
       "      <th>2</th>\n",
       "      <td>44054</td>\n",
       "      <td>436978</td>\n",
       "      <td>2011-08-11</td>\n",
       "      <td>609177</td>\n",
       "      <td>Emma</td>\n",
       "      <td>It is a really massive apartment and really co...</td>\n",
       "      <td>It is a really massive apartment and really co...</td>\n",
       "      <td>None</td>\n",
       "    </tr>\n",
       "    <tr>\n",
       "      <th>3</th>\n",
       "      <td>44054</td>\n",
       "      <td>1118657</td>\n",
       "      <td>2012-04-12</td>\n",
       "      <td>1787536</td>\n",
       "      <td>Andreyna</td>\n",
       "      <td>Sev was incredibly helpful, showed us around t...</td>\n",
       "      <td>Sev was incredibly helpful showed us around th...</td>\n",
       "      <td>None</td>\n",
       "    </tr>\n",
       "    <tr>\n",
       "      <th>4</th>\n",
       "      <td>44054</td>\n",
       "      <td>2140650</td>\n",
       "      <td>2012-08-30</td>\n",
       "      <td>1179565</td>\n",
       "      <td>Frances</td>\n",
       "      <td>The appartment was ideal for our party of 6 ad...</td>\n",
       "      <td>The appartment was ideal for our party of  adu...</td>\n",
       "      <td>None</td>\n",
       "    </tr>\n",
       "  </tbody>\n",
       "</table>\n",
       "</div>"
      ],
      "text/plain": [
       "   listing_id       id        date  reviewer_id reviewer_name  \\\n",
       "0       44054    84748  2010-08-25       207019        Jarrod   \n",
       "1       44054   118384  2010-10-13       218723      Kimberly   \n",
       "2       44054   436978  2011-08-11       609177          Emma   \n",
       "3       44054  1118657  2012-04-12      1787536      Andreyna   \n",
       "4       44054  2140650  2012-08-30      1179565       Frances   \n",
       "\n",
       "                                            comments  \\\n",
       "0  Sev was very helpful.  Sev showed us where to ...   \n",
       "1  We arrived in Beijing very early in the mornin...   \n",
       "2  It is a really massive apartment and really co...   \n",
       "3  Sev was incredibly helpful, showed us around t...   \n",
       "4  The appartment was ideal for our party of 6 ad...   \n",
       "\n",
       "                                    cleaned_comments is_Chinese  \n",
       "0  Sev was very helpful  Sev showed us where to s...       None  \n",
       "1  We arrived in Beijing very early in the mornin...       None  \n",
       "2  It is a really massive apartment and really co...       None  \n",
       "3  Sev was incredibly helpful showed us around th...       None  \n",
       "4  The appartment was ideal for our party of  adu...       None  "
      ]
     },
     "execution_count": 386,
     "metadata": {},
     "output_type": "execute_result"
    }
   ],
   "source": [
    "reviews.head()"
   ]
  },
  {
   "cell_type": "code",
   "execution_count": 387,
   "metadata": {},
   "outputs": [
    {
     "data": {
      "text/plain": [
       "朝阳区 / Chaoyang      0.346208\n",
       "东城区                 0.110051\n",
       "海淀区                 0.104584\n",
       "丰台区 / Fengtai       0.060115\n",
       "西城区                 0.057585\n",
       "延庆县 / Yanqing       0.056771\n",
       "密云县 / Miyun         0.043160\n",
       "通州区 / Tongzhou      0.041764\n",
       "顺义区 / Shunyi        0.037110\n",
       "昌平区                 0.035423\n",
       "怀柔区 / Huairou       0.033737\n",
       "大兴区 / Daxing        0.030596\n",
       "房山区                 0.022481\n",
       "石景山区                0.008201\n",
       "门头沟区 / Mentougou    0.006515\n",
       "平谷区 / Pinggu        0.005700\n",
       "Name: neighbourhood, dtype: float64"
      ]
     },
     "execution_count": 387,
     "metadata": {},
     "output_type": "execute_result"
    }
   ],
   "source": [
    "df_list['neighbourhood'].value_counts(normalize=True)"
   ]
  },
  {
   "cell_type": "code",
   "execution_count": 388,
   "metadata": {},
   "outputs": [
    {
     "data": {
      "text/plain": [
       "朝阳区 / Chaoyang      11904\n",
       "东城区                  3784\n",
       "海淀区                  3596\n",
       "丰台区 / Fengtai        2067\n",
       "西城区                  1980\n",
       "延庆县 / Yanqing        1952\n",
       "密云县 / Miyun          1484\n",
       "通州区 / Tongzhou       1436\n",
       "顺义区 / Shunyi         1276\n",
       "昌平区                  1218\n",
       "怀柔区 / Huairou        1160\n",
       "大兴区 / Daxing         1052\n",
       "房山区                   773\n",
       "石景山区                  282\n",
       "门头沟区 / Mentougou      224\n",
       "平谷区 / Pinggu          196\n",
       "Name: neighbourhood, dtype: int64"
      ]
     },
     "execution_count": 388,
     "metadata": {},
     "output_type": "execute_result"
    }
   ],
   "source": [
    "df_list['neighbourhood'].value_counts()"
   ]
  },
  {
   "cell_type": "markdown",
   "metadata": {},
   "source": [
    "## Is score important?"
   ]
  },
  {
   "cell_type": "code",
   "execution_count": 362,
   "metadata": {
    "collapsed": true
   },
   "outputs": [],
   "source": [
    "# first step: clean data and deal with Categorical Variables"
   ]
  },
  {
   "cell_type": "code",
   "execution_count": 416,
   "metadata": {
    "collapsed": true
   },
   "outputs": [],
   "source": [
    "response = 'availability_30'\n",
    "df = listings_detail[['neighbourhood_cleansed', 'room_type', 'price',\n",
    "                      'review_scores_rating', 'reviews_per_month',\n",
    "                      'number_of_reviews_ltm', 'property_type',\n",
    "                        response]]\n",
    "# df = listings_detail[['room_type', 'price',\n",
    "#                         'review_scores_rating', 'reviews_per_month',\n",
    "#                         'availability_365']]"
   ]
  },
  {
   "cell_type": "code",
   "execution_count": 417,
   "metadata": {},
   "outputs": [
    {
     "name": "stdout",
     "output_type": "stream",
     "text": [
      "<class 'pandas.core.frame.DataFrame'>\n",
      "RangeIndex: 34384 entries, 0 to 34383\n",
      "Data columns (total 8 columns):\n",
      "neighbourhood_cleansed    34384 non-null object\n",
      "room_type                 34384 non-null object\n",
      "price                     34384 non-null object\n",
      "review_scores_rating      20199 non-null float64\n",
      "reviews_per_month         20625 non-null float64\n",
      "number_of_reviews_ltm     34384 non-null int64\n",
      "property_type             34384 non-null object\n",
      "availability_30           34384 non-null int64\n",
      "dtypes: float64(2), int64(2), object(4)\n",
      "memory usage: 2.1+ MB\n"
     ]
    }
   ],
   "source": [
    "df.info()"
   ]
  },
  {
   "cell_type": "code",
   "execution_count": 418,
   "metadata": {},
   "outputs": [
    {
     "name": "stderr",
     "output_type": "stream",
     "text": [
      "/Users/sharonyan/anaconda/lib/python3.6/site-packages/ipykernel_launcher.py:1: SettingWithCopyWarning: \n",
      "A value is trying to be set on a copy of a slice from a DataFrame.\n",
      "Try using .loc[row_indexer,col_indexer] = value instead\n",
      "\n",
      "See the caveats in the documentation: http://pandas.pydata.org/pandas-docs/stable/indexing.html#indexing-view-versus-copy\n",
      "  \"\"\"Entry point for launching an IPython kernel.\n",
      "/Users/sharonyan/anaconda/lib/python3.6/site-packages/ipykernel_launcher.py:2: SettingWithCopyWarning: \n",
      "A value is trying to be set on a copy of a slice from a DataFrame\n",
      "\n",
      "See the caveats in the documentation: http://pandas.pydata.org/pandas-docs/stable/indexing.html#indexing-view-versus-copy\n",
      "  \n"
     ]
    }
   ],
   "source": [
    "df['availability_score'] = np.where(df[response]==0, 30, 30-df[response])\n",
    "df.drop([response], axis=1, inplace=True)\n",
    "response = 'availability_score'"
   ]
  },
  {
   "cell_type": "code",
   "execution_count": 419,
   "metadata": {
    "collapsed": true
   },
   "outputs": [],
   "source": [
    "# df.head()"
   ]
  },
  {
   "cell_type": "code",
   "execution_count": 420,
   "metadata": {},
   "outputs": [
    {
     "name": "stderr",
     "output_type": "stream",
     "text": [
      "/Users/sharonyan/anaconda/lib/python3.6/site-packages/ipykernel_launcher.py:5: SettingWithCopyWarning: \n",
      "A value is trying to be set on a copy of a slice from a DataFrame.\n",
      "Try using .loc[row_indexer,col_indexer] = value instead\n",
      "\n",
      "See the caveats in the documentation: http://pandas.pydata.org/pandas-docs/stable/indexing.html#indexing-view-versus-copy\n",
      "  \"\"\"\n",
      "/Users/sharonyan/anaconda/lib/python3.6/site-packages/ipykernel_launcher.py:6: SettingWithCopyWarning: \n",
      "A value is trying to be set on a copy of a slice from a DataFrame\n",
      "\n",
      "See the caveats in the documentation: http://pandas.pydata.org/pandas-docs/stable/indexing.html#indexing-view-versus-copy\n",
      "  \n"
     ]
    }
   ],
   "source": [
    "def currency_to_float(row):\n",
    "    '''\n",
    "    INPUT:\n",
    "    row - pandas dataframe with 'price'\n",
    "    \n",
    "    OUTPUT:\n",
    "    the true value of price\n",
    "    '''\n",
    "    f = row['price']\n",
    "    return float(sub(r'[^\\d.]', '', f))\n",
    "\n",
    "df['price_value'] = df.apply(currency_to_float, axis=1)\n",
    "df.drop(['price'], axis=1, inplace=True)"
   ]
  },
  {
   "cell_type": "code",
   "execution_count": 421,
   "metadata": {
    "collapsed": true
   },
   "outputs": [],
   "source": [
    "# df['neighbourhood_cleansed'].value_counts()"
   ]
  },
  {
   "cell_type": "code",
   "execution_count": 422,
   "metadata": {},
   "outputs": [
    {
     "data": {
      "text/plain": [
       "Entire home/apt    20855\n",
       "Private room       11546\n",
       "Shared room         1983\n",
       "Name: room_type, dtype: int64"
      ]
     },
     "execution_count": 422,
     "metadata": {},
     "output_type": "execute_result"
    }
   ],
   "source": [
    "df['room_type'].value_counts()"
   ]
  },
  {
   "cell_type": "code",
   "execution_count": 431,
   "metadata": {},
   "outputs": [
    {
     "name": "stdout",
     "output_type": "stream",
     "text": [
      "(34384, 8)\n",
      "<class 'pandas.core.frame.DataFrame'>\n",
      "Int64Index: 34384 entries, 0 to 34383\n",
      "Data columns (total 8 columns):\n",
      "neighbourhood_cleansed    34384 non-null object\n",
      "room_type                 34384 non-null object\n",
      "review_scores_rating      20199 non-null float64\n",
      "reviews_per_month         20625 non-null float64\n",
      "number_of_reviews_ltm     34384 non-null int64\n",
      "property_type             34384 non-null object\n",
      "availability_score        34384 non-null int64\n",
      "price_value               34384 non-null float64\n",
      "dtypes: float64(3), int64(2), object(3)\n",
      "memory usage: 2.4+ MB\n"
     ]
    }
   ],
   "source": [
    "#Dropping where the availability_30 has missing values\n",
    "df  = df.dropna(subset=[response], axis=0)\n",
    "print(df.shape)\n",
    "df.info()"
   ]
  },
  {
   "cell_type": "code",
   "execution_count": 432,
   "metadata": {
    "collapsed": true
   },
   "outputs": [],
   "source": [
    "def create_dummy_df(df, cat_cols, dummy_na):\n",
    "    '''\n",
    "    INPUT:\n",
    "    df - pandas dataframe with categorical variables you want to dummy\n",
    "    cat_cols - list of strings that are associated with names of the categorical columns\n",
    "    dummy_na - Bool holding whether you want to dummy NA vals of categorical columns or not\n",
    "    \n",
    "    OUTPUT:\n",
    "    df - a new dataframe that has the following characteristics:\n",
    "            1. contains all columns that were not specified as categorical\n",
    "            2. removes all the original columns in cat_cols\n",
    "            3. dummy columns for each of the categorical columns in cat_cols\n",
    "            4. if dummy_na is True - it also contains dummy columns for the NaN values\n",
    "            5. Use a prefix of the column name with an underscore (_) for separating \n",
    "    '''\n",
    "    for col in  cat_cols:\n",
    "        try:\n",
    "            # for each cat add dummy var, drop original column\n",
    "            df = pd.concat([df.drop(col, axis=1), pd.get_dummies(df[col], prefix=col, prefix_sep='_', drop_first=True, dummy_na=dummy_na)], axis=1)\n",
    "        except:\n",
    "            continue\n",
    "    return df"
   ]
  },
  {
   "cell_type": "code",
   "execution_count": 433,
   "metadata": {},
   "outputs": [
    {
     "name": "stdout",
     "output_type": "stream",
     "text": [
      "(34384, 63)\n"
     ]
    }
   ],
   "source": [
    "#Pull a list of the column names of the categorical variables\n",
    "cat_df = df.select_dtypes(include=['object'])\n",
    "cat_cols_lst = cat_df.columns\n",
    "\n",
    "df_new = create_dummy_df(df, cat_cols_lst, dummy_na=False)\n",
    "\n",
    "# Show shape to assure it has a shape of (5009, 11938)\n",
    "print(df_new.shape)"
   ]
  },
  {
   "cell_type": "code",
   "execution_count": 476,
   "metadata": {},
   "outputs": [
    {
     "data": {
      "text/plain": [
       "['review_scores_rating',\n",
       " 'reviews_per_month',\n",
       " 'number_of_reviews_ltm',\n",
       " 'availability_score',\n",
       " 'price_value',\n",
       " 'neighbourhood_cleansed_丰台区 / Fengtai',\n",
       " 'neighbourhood_cleansed_大兴区 / Daxing',\n",
       " 'neighbourhood_cleansed_密云县 / Miyun',\n",
       " 'neighbourhood_cleansed_平谷区 / Pinggu',\n",
       " 'neighbourhood_cleansed_延庆县 / Yanqing',\n",
       " 'neighbourhood_cleansed_怀柔区 / Huairou',\n",
       " 'neighbourhood_cleansed_房山区',\n",
       " 'neighbourhood_cleansed_昌平区',\n",
       " 'neighbourhood_cleansed_朝阳区 / Chaoyang',\n",
       " 'neighbourhood_cleansed_海淀区',\n",
       " 'neighbourhood_cleansed_石景山区',\n",
       " 'neighbourhood_cleansed_西城区',\n",
       " 'neighbourhood_cleansed_通州区 / Tongzhou',\n",
       " 'neighbourhood_cleansed_门头沟区 / Mentougou',\n",
       " 'neighbourhood_cleansed_顺义区 / Shunyi',\n",
       " 'room_type_Private room',\n",
       " 'room_type_Shared room',\n",
       " 'property_type_Apartment',\n",
       " 'property_type_Barn',\n",
       " 'property_type_Bed and breakfast',\n",
       " 'property_type_Boutique hotel',\n",
       " 'property_type_Bungalow',\n",
       " 'property_type_Cabin',\n",
       " 'property_type_Camper/RV',\n",
       " 'property_type_Campsite',\n",
       " 'property_type_Casa particular (Cuba)',\n",
       " 'property_type_Castle',\n",
       " 'property_type_Cave',\n",
       " 'property_type_Chalet',\n",
       " 'property_type_Condominium',\n",
       " 'property_type_Cottage',\n",
       " 'property_type_Dome house',\n",
       " 'property_type_Earth house',\n",
       " 'property_type_Farm stay',\n",
       " 'property_type_Guest suite',\n",
       " 'property_type_Guesthouse',\n",
       " 'property_type_Heritage hotel (India)',\n",
       " 'property_type_Hostel',\n",
       " 'property_type_Hotel',\n",
       " 'property_type_House',\n",
       " 'property_type_Houseboat',\n",
       " 'property_type_Hut',\n",
       " 'property_type_Igloo',\n",
       " 'property_type_In-law',\n",
       " 'property_type_Loft',\n",
       " 'property_type_Minsu (Taiwan)',\n",
       " 'property_type_Nature lodge',\n",
       " 'property_type_Other',\n",
       " 'property_type_Pension (South Korea)',\n",
       " 'property_type_Resort',\n",
       " 'property_type_Ryokan (Japan)',\n",
       " 'property_type_Serviced apartment',\n",
       " 'property_type_Tent',\n",
       " 'property_type_Tiny house',\n",
       " 'property_type_Townhouse',\n",
       " 'property_type_Treehouse',\n",
       " 'property_type_Vacation home',\n",
       " 'property_type_Villa']"
      ]
     },
     "execution_count": 476,
     "metadata": {},
     "output_type": "execute_result"
    }
   ],
   "source": [
    "list(df_new)"
   ]
  },
  {
   "cell_type": "code",
   "execution_count": 434,
   "metadata": {
    "collapsed": true
   },
   "outputs": [],
   "source": [
    "df_new = df_new[df_new['price_value']!=0]"
   ]
  },
  {
   "cell_type": "code",
   "execution_count": 442,
   "metadata": {
    "collapsed": true
   },
   "outputs": [],
   "source": [
    "# list(df_new)"
   ]
  },
  {
   "cell_type": "code",
   "execution_count": 443,
   "metadata": {},
   "outputs": [
    {
     "name": "stdout",
     "output_type": "stream",
     "text": [
      "The rsquared on the training data was 0.3335593431117465.  The rsquared on the test data was -0.23051152116003015.\n"
     ]
    }
   ],
   "source": [
    "# Mean function\n",
    "fill_mean = lambda col: col.fillna(col.mean())\n",
    "# Fill the mean\n",
    "fill_df = df_new.apply(fill_mean, axis=0)\n",
    "\n",
    "#Split into explanatory and response variables\n",
    "X = fill_df.drop([response], axis=1)\n",
    "y = fill_df[response]\n",
    "\n",
    "#Split into train and test\n",
    "X_train, X_test, y_train, y_test = train_test_split(X, y, test_size = .30, random_state=42) \n",
    "\n",
    "lm_model = LinearRegression(normalize=\\False) # Instantiate\n",
    "lm_model.fit(X_train, y_train) #Fit\n",
    " \n",
    "#Predict using your model\n",
    "y_test_preds = lm_model.predict(X_test)\n",
    "y_train_preds = lm_model.predict(X_train)\n",
    "\n",
    "# #Score using your model\n",
    "test_score = r2_score(y_test, y_test_preds)\n",
    "train_score = r2_score(y_train, y_train_preds)\n",
    "\n",
    "print(\"The rsquared on the training data was {}.  The rsquared on the test data was {}.\".format(train_score, test_score))"
   ]
  },
  {
   "cell_type": "code",
   "execution_count": 438,
   "metadata": {},
   "outputs": [
    {
     "data": {
      "text/plain": [
       "array([ 7.83695995e-02,  4.82524346e-03,  1.51612323e-01, -6.29873856e-05,\n",
       "       -5.81072042e+00, -7.67379062e+00, -1.07729459e+01, -8.48177116e+00,\n",
       "       -1.13013971e+01, -1.01293262e+01, -1.09397216e+01, -8.79864211e+00,\n",
       "       -3.98712550e+00, -2.08283697e+00, -3.13976859e+00, -5.03580888e-01,\n",
       "       -9.63658278e+00, -5.32015630e+00, -1.07498945e+01, -1.24309668e+00,\n",
       "       -4.37326765e+00,  2.39140759e+00, -4.66396700e+00,  3.40373196e+00,\n",
       "        1.79923320e+00,  1.84763118e+00,  2.20669992e+00,  2.66107123e+00,\n",
       "        5.66086460e-01, -5.30471900e-01,  1.66748348e+00, -5.80992932e-01,\n",
       "        2.93788401e+00,  2.82453694e+00,  1.41742993e+00, -1.82935519e+00,\n",
       "       -7.49401703e-01,  9.22692962e-01,  2.05984027e+00,  1.99651834e+00,\n",
       "        0.00000000e+00,  5.96283907e+00,  2.78743118e+00,  2.03632154e+00,\n",
       "       -3.81939967e+00, -1.56865591e+00,  0.00000000e+00, -1.77635684e-15,\n",
       "        3.84769311e+00,  6.22904678e+00,  4.13096736e+00, -4.02042346e-01,\n",
       "        1.66457094e+01,  2.34366795e+00,  0.00000000e+00, -8.06962022e-01,\n",
       "        1.05328894e+00,  2.14525215e+00,  6.30938338e-01, -3.90273649e+00,\n",
       "        0.00000000e+00,  1.74999639e+00])"
      ]
     },
     "execution_count": 438,
     "metadata": {},
     "output_type": "execute_result"
    }
   ],
   "source": [
    "lm_model.coef_"
   ]
  },
  {
   "cell_type": "code",
   "execution_count": 439,
   "metadata": {
    "collapsed": true
   },
   "outputs": [],
   "source": [
    "#step 2: find influence on score"
   ]
  },
  {
   "cell_type": "code",
   "execution_count": 440,
   "metadata": {},
   "outputs": [
    {
     "name": "stderr",
     "output_type": "stream",
     "text": [
      "/Users/sharonyan/anaconda/lib/python3.6/site-packages/ipykernel_launcher.py:6: SettingWithCopyWarning: \n",
      "A value is trying to be set on a copy of a slice from a DataFrame\n",
      "\n",
      "See the caveats in the documentation: http://pandas.pydata.org/pandas-docs/stable/indexing.html#indexing-view-versus-copy\n",
      "  \n"
     ]
    }
   ],
   "source": [
    "scores = listings_detail[[#'id',\n",
    "                          'review_scores_rating', 'review_scores_accuracy', \n",
    "                          'review_scores_cleanliness', 'review_scores_checkin',\n",
    "                          'review_scores_communication', 'review_scores_location',\n",
    "                          'review_scores_value']]\n",
    "scores.dropna(inplace=True)"
   ]
  },
  {
   "cell_type": "code",
   "execution_count": 493,
   "metadata": {},
   "outputs": [
    {
     "data": {
      "image/png": "[encoded data removed]",
      "text/plain": [
       "<matplotlib.figure.Figure at 0x13e253eb8>"
      ]
     },
     "metadata": {},
     "output_type": "display_data"
    }
   ],
   "source": [
    "# find correlations between related variables\n",
    "corr = scores.corr()\n",
    "fig = plt.figure()\n",
    "ax = fig.add_subplot(111)\n",
    "cax = ax.matshow(corr,cmap='coolwarm', vmin=-1, vmax=1)\n",
    "fig.colorbar(cax)\n",
    "ticks = np.arange(0,len(scores.columns),1)\n",
    "ax.set_xticks(ticks)\n",
    "plt.xticks(rotation=90)\n",
    "ax.set_yticks(ticks)\n",
    "ax.set_xticklabels(scores.columns)\n",
    "ax.set_yticklabels(scores.columns)\n",
    "plt.show()\n",
    "fig.savefig('correlation.png', optimize=True)"
   ]
  },
  {
   "cell_type": "code",
   "execution_count": 494,
   "metadata": {},
   "outputs": [
    {
     "name": "stdout",
     "output_type": "stream",
     "text": [
      "<class 'pandas.core.frame.DataFrame'>\n",
      "Int64Index: 240819 entries, 0 to 240958\n",
      "Data columns (total 8 columns):\n",
      "listing_id          240819 non-null int64\n",
      "id                  240819 non-null int64\n",
      "date                240819 non-null object\n",
      "reviewer_id         240819 non-null int64\n",
      "reviewer_name       240818 non-null object\n",
      "comments            240819 non-null object\n",
      "cleaned_comments    240819 non-null object\n",
      "is_Chinese          209999 non-null object\n",
      "dtypes: int64(3), object(5)\n",
      "memory usage: 16.5+ MB\n"
     ]
    },
    {
     "data": {
      "image/png": "[encoded data removed]",
      "text/plain": [
       "<matplotlib.figure.Figure at 0x13b7a7e48>"
      ]
     },
     "metadata": {},
     "output_type": "display_data"
    }
   ],
   "source": [
    "# step three Dig into comments\n",
    "\n",
    "reviews = reviews.dropna(subset=['comments'])\n",
    "reviews.info()\n",
    "\n",
    "\n",
    "def clean_content(df):\n",
    "    '''\n",
    "    INPUT:\n",
    "    df - pandas dataframe with 'comments'\n",
    "    \n",
    "    OUTPUT:\n",
    "    cleaned content without symbols\n",
    "    '''\n",
    "    # filter out symbols\n",
    "    f = df['comments']\n",
    "#     r1 = u'[a-zA-Z0-9’!\"#$%&\\'()*+,-./:;<=>?@，。?★、…【】《》？“”‘’！[\\\\]^_`{|}~]+'\n",
    "    r1 = u'[0-9’!\"#$%&\\'()*+,-./:;<=>?@，。?★、…【】《》？“”‘’！[\\\\]^_`{|}~]+'\n",
    "    return re.sub(r1,'', f).replace('\\n', ' ').replace('\\r', '')\n",
    "\n",
    "reviews['cleaned_comments'] = reviews.apply(clean_content, axis=1)\n",
    "\n",
    "\n",
    "def is_Chinese(df):\n",
    "    '''\n",
    "    INPUT:\n",
    "    df - pandas dataframe with 'comments'\n",
    "    \n",
    "    OUTPUT:\n",
    "    bool showing if the input is in Chinese\n",
    "    '''\n",
    "    f = df['comments']\n",
    "    HZPattern = re.compile(u'[\\u4e00-\\u9fa5]+')\n",
    "    return HZPattern.search(f)\n",
    "reviews['is_Chinese'] = reviews.apply(is_Chinese, axis=1)\n",
    "\n",
    "reviews_English = reviews[reviews['is_Chinese'].isnull()]\n",
    "\n",
    "\n",
    "neighbourhood_id = df_list[['id', 'neighbourhood']]\n",
    "reviews_English = reviews_English.merge(neighbourhood_id, how='left', left_on = 'listing_id', right_on = 'id')\n",
    "\n",
    "text = \" \".join(review for review in reviews_English['cleaned_comments'])\n",
    "# Create stopword list:\n",
    "from nltk.corpus import stopwords\n",
    "STOPWORDS = stopwords.words('english')\n",
    "stopwords = set(STOPWORDS)\n",
    "stopwords.update([\"also\", \"room\", \"apartment\", \"posting\", \"canceled\",\"reservation\", \"host\", \"Beijing\", \"stay\",\n",
    "                 \"arrival\", \"days\", \"house\", \"good\", \"nice\", \"one\", \"really\", \"area\", \"even\"])\n",
    "\n",
    "# Generate a word cloud image\n",
    "wordcloud = WordCloud(stopwords=stopwords, background_color=\"white\").generate(text)\n",
    "\n",
    "# Display the generated image:\n",
    "# the matplotlib way:\n",
    "fig = plt.figure(figsize=(8, 4))\n",
    "plt.imshow(wordcloud, interpolation='bilinear')\n",
    "plt.axis(\"off\")\n",
    "plt.show()"
   ]
  },
  {
   "cell_type": "code",
   "execution_count": 495,
   "metadata": {},
   "outputs": [],
   "source": [
    "fig.savefig('wordcloud.png')"
   ]
  },
  {
   "cell_type": "code",
   "execution_count": null,
   "metadata": {
    "collapsed": true
   },
   "outputs": [],
   "source": []
  }
 ],
 "metadata": {
  "kernelspec": {
   "display_name": "Python 3",
   "language": "python",
   "name": "python3"
  },
  "language_info": {
   "codemirror_mode": {
    "name": "ipython",
    "version": 3
   },
   "file_extension": ".py",
   "mimetype": "text/x-python",
   "name": "python",
   "nbconvert_exporter": "python",
   "pygments_lexer": "ipython3",
   "version": "3.6.1"
  }
 },
 "nbformat": 4,
 "nbformat_minor": 2
}
